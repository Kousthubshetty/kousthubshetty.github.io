{
 "cells": [
  {
   "cell_type": "code",
   "execution_count": 118,
   "id": "06995036",
   "metadata": {},
   "outputs": [],
   "source": [
    "import numpy as np\n",
    "import pandas as pd\n",
    "import matplotlib.pyplot as plt"
   ]
  },
  {
   "cell_type": "code",
   "execution_count": 119,
   "id": "86039f96",
   "metadata": {},
   "outputs": [
    {
     "data": {
      "image/png": "[encoded data removed]",
      "text/plain": [
       "<Figure size 432x288 with 1 Axes>"
      ]
     },
     "metadata": {
      "needs_background": "light"
     },
     "output_type": "display_data"
    }
   ],
   "source": [
    "np.random.seed(0)\n",
    "xx = 2 - 3 * np.random.normal(0, 1, 20)\n",
    "yy = xx - 2 * (xx ** 2) + 0.5 * (xx ** 3) + np.random.normal(-3, 3, 20)\n",
    "plt.scatter(xx,yy, s=10)\n",
    "plt.show()"
   ]
  },
  {
   "cell_type": "code",
   "execution_count": 120,
   "id": "6d06f95d",
   "metadata": {},
   "outputs": [
    {
     "data": {
      "text/plain": [
       "array([-3.29215704,  0.79952837, -0.93621395, -4.7226796 , -3.60267397,\n",
       "        4.93183364, -0.85026525,  2.45407162,  2.30965656,  0.76820449,\n",
       "        1.56786929, -2.36282052, -0.28311318,  1.63497495,  0.6684103 ,\n",
       "        0.99897702, -2.48223722,  2.61547479,  1.0607969 ,  4.56228722])"
      ]
     },
     "execution_count": 120,
     "metadata": {},
     "output_type": "execute_result"
    }
   ],
   "source": [
    "xx"
   ]
  },
  {
   "cell_type": "code",
   "execution_count": 121,
   "id": "be0bc04f",
   "metadata": {},
   "outputs": [
    {
     "data": {
      "text/plain": [
       "array([ -53.46841187,   -1.26255958,   -3.50619264, -107.22320039,\n",
       "        -49.13195018,    8.90122353,   -5.46624176,   -5.76263165,\n",
       "         -0.60058568,    1.2226779 ,   -3.95663744,  -21.98989452,\n",
       "         -6.11812275,  -10.46843964,   -4.11955719,   -3.02941914,\n",
       "        -21.76152272,   -1.51295226,   -4.75491157,    6.50723268])"
      ]
     },
     "execution_count": 121,
     "metadata": {},
     "output_type": "execute_result"
    }
   ],
   "source": [
    "yy"
   ]
  },
  {
   "cell_type": "code",
   "execution_count": 122,
   "id": "d84c4a8c",
   "metadata": {},
   "outputs": [],
   "source": [
    "x = pd.DataFrame(xx, columns =['X'])"
   ]
  },
  {
   "cell_type": "code",
   "execution_count": 123,
   "id": "2a953e5f",
   "metadata": {},
   "outputs": [
    {
     "data": {
      "text/html": [
       "<div>\n",
       "<style scoped>\n",
       "    .dataframe tbody tr th:only-of-type {\n",
       "        vertical-align: middle;\n",
       "    }\n",
       "\n",
       "    .dataframe tbody tr th {\n",
       "        vertical-align: top;\n",
       "    }\n",
       "\n",
       "    .dataframe thead th {\n",
       "        text-align: right;\n",
       "    }\n",
       "</style>\n",
       "<table border=\"1\" class=\"dataframe\">\n",
       "  <thead>\n",
       "    <tr style=\"text-align: right;\">\n",
       "      <th></th>\n",
       "      <th>X</th>\n",
       "    </tr>\n",
       "  </thead>\n",
       "  <tbody>\n",
       "    <tr>\n",
       "      <th>0</th>\n",
       "      <td>-3.292157</td>\n",
       "    </tr>\n",
       "    <tr>\n",
       "      <th>1</th>\n",
       "      <td>0.799528</td>\n",
       "    </tr>\n",
       "    <tr>\n",
       "      <th>2</th>\n",
       "      <td>-0.936214</td>\n",
       "    </tr>\n",
       "    <tr>\n",
       "      <th>3</th>\n",
       "      <td>-4.722680</td>\n",
       "    </tr>\n",
       "    <tr>\n",
       "      <th>4</th>\n",
       "      <td>-3.602674</td>\n",
       "    </tr>\n",
       "    <tr>\n",
       "      <th>5</th>\n",
       "      <td>4.931834</td>\n",
       "    </tr>\n",
       "    <tr>\n",
       "      <th>6</th>\n",
       "      <td>-0.850265</td>\n",
       "    </tr>\n",
       "    <tr>\n",
       "      <th>7</th>\n",
       "      <td>2.454072</td>\n",
       "    </tr>\n",
       "    <tr>\n",
       "      <th>8</th>\n",
       "      <td>2.309657</td>\n",
       "    </tr>\n",
       "    <tr>\n",
       "      <th>9</th>\n",
       "      <td>0.768204</td>\n",
       "    </tr>\n",
       "    <tr>\n",
       "      <th>10</th>\n",
       "      <td>1.567869</td>\n",
       "    </tr>\n",
       "    <tr>\n",
       "      <th>11</th>\n",
       "      <td>-2.362821</td>\n",
       "    </tr>\n",
       "    <tr>\n",
       "      <th>12</th>\n",
       "      <td>-0.283113</td>\n",
       "    </tr>\n",
       "    <tr>\n",
       "      <th>13</th>\n",
       "      <td>1.634975</td>\n",
       "    </tr>\n",
       "    <tr>\n",
       "      <th>14</th>\n",
       "      <td>0.668410</td>\n",
       "    </tr>\n",
       "    <tr>\n",
       "      <th>15</th>\n",
       "      <td>0.998977</td>\n",
       "    </tr>\n",
       "    <tr>\n",
       "      <th>16</th>\n",
       "      <td>-2.482237</td>\n",
       "    </tr>\n",
       "    <tr>\n",
       "      <th>17</th>\n",
       "      <td>2.615475</td>\n",
       "    </tr>\n",
       "    <tr>\n",
       "      <th>18</th>\n",
       "      <td>1.060797</td>\n",
       "    </tr>\n",
       "    <tr>\n",
       "      <th>19</th>\n",
       "      <td>4.562287</td>\n",
       "    </tr>\n",
       "  </tbody>\n",
       "</table>\n",
       "</div>"
      ],
      "text/plain": [
       "           X\n",
       "0  -3.292157\n",
       "1   0.799528\n",
       "2  -0.936214\n",
       "3  -4.722680\n",
       "4  -3.602674\n",
       "5   4.931834\n",
       "6  -0.850265\n",
       "7   2.454072\n",
       "8   2.309657\n",
       "9   0.768204\n",
       "10  1.567869\n",
       "11 -2.362821\n",
       "12 -0.283113\n",
       "13  1.634975\n",
       "14  0.668410\n",
       "15  0.998977\n",
       "16 -2.482237\n",
       "17  2.615475\n",
       "18  1.060797\n",
       "19  4.562287"
      ]
     },
     "execution_count": 123,
     "metadata": {},
     "output_type": "execute_result"
    }
   ],
   "source": [
    "x"
   ]
  },
  {
   "cell_type": "code",
   "execution_count": 125,
   "id": "1d5d6548",
   "metadata": {},
   "outputs": [],
   "source": [
    "x.insert(0,'x0',[1,1,1,1,1,1,1,1,1,1,1,1,1,1,1,1,1,1,1,1])"
   ]
  },
  {
   "cell_type": "code",
   "execution_count": 126,
   "id": "19e05d6e",
   "metadata": {},
   "outputs": [
    {
     "data": {
      "text/html": [
       "<div>\n",
       "<style scoped>\n",
       "    .dataframe tbody tr th:only-of-type {\n",
       "        vertical-align: middle;\n",
       "    }\n",
       "\n",
       "    .dataframe tbody tr th {\n",
       "        vertical-align: top;\n",
       "    }\n",
       "\n",
       "    .dataframe thead th {\n",
       "        text-align: right;\n",
       "    }\n",
       "</style>\n",
       "<table border=\"1\" class=\"dataframe\">\n",
       "  <thead>\n",
       "    <tr style=\"text-align: right;\">\n",
       "      <th></th>\n",
       "      <th>x0</th>\n",
       "      <th>X</th>\n",
       "    </tr>\n",
       "  </thead>\n",
       "  <tbody>\n",
       "    <tr>\n",
       "      <th>0</th>\n",
       "      <td>1</td>\n",
       "      <td>-3.292157</td>\n",
       "    </tr>\n",
       "    <tr>\n",
       "      <th>1</th>\n",
       "      <td>1</td>\n",
       "      <td>0.799528</td>\n",
       "    </tr>\n",
       "    <tr>\n",
       "      <th>2</th>\n",
       "      <td>1</td>\n",
       "      <td>-0.936214</td>\n",
       "    </tr>\n",
       "    <tr>\n",
       "      <th>3</th>\n",
       "      <td>1</td>\n",
       "      <td>-4.722680</td>\n",
       "    </tr>\n",
       "    <tr>\n",
       "      <th>4</th>\n",
       "      <td>1</td>\n",
       "      <td>-3.602674</td>\n",
       "    </tr>\n",
       "    <tr>\n",
       "      <th>5</th>\n",
       "      <td>1</td>\n",
       "      <td>4.931834</td>\n",
       "    </tr>\n",
       "    <tr>\n",
       "      <th>6</th>\n",
       "      <td>1</td>\n",
       "      <td>-0.850265</td>\n",
       "    </tr>\n",
       "    <tr>\n",
       "      <th>7</th>\n",
       "      <td>1</td>\n",
       "      <td>2.454072</td>\n",
       "    </tr>\n",
       "    <tr>\n",
       "      <th>8</th>\n",
       "      <td>1</td>\n",
       "      <td>2.309657</td>\n",
       "    </tr>\n",
       "    <tr>\n",
       "      <th>9</th>\n",
       "      <td>1</td>\n",
       "      <td>0.768204</td>\n",
       "    </tr>\n",
       "    <tr>\n",
       "      <th>10</th>\n",
       "      <td>1</td>\n",
       "      <td>1.567869</td>\n",
       "    </tr>\n",
       "    <tr>\n",
       "      <th>11</th>\n",
       "      <td>1</td>\n",
       "      <td>-2.362821</td>\n",
       "    </tr>\n",
       "    <tr>\n",
       "      <th>12</th>\n",
       "      <td>1</td>\n",
       "      <td>-0.283113</td>\n",
       "    </tr>\n",
       "    <tr>\n",
       "      <th>13</th>\n",
       "      <td>1</td>\n",
       "      <td>1.634975</td>\n",
       "    </tr>\n",
       "    <tr>\n",
       "      <th>14</th>\n",
       "      <td>1</td>\n",
       "      <td>0.668410</td>\n",
       "    </tr>\n",
       "    <tr>\n",
       "      <th>15</th>\n",
       "      <td>1</td>\n",
       "      <td>0.998977</td>\n",
       "    </tr>\n",
       "    <tr>\n",
       "      <th>16</th>\n",
       "      <td>1</td>\n",
       "      <td>-2.482237</td>\n",
       "    </tr>\n",
       "    <tr>\n",
       "      <th>17</th>\n",
       "      <td>1</td>\n",
       "      <td>2.615475</td>\n",
       "    </tr>\n",
       "    <tr>\n",
       "      <th>18</th>\n",
       "      <td>1</td>\n",
       "      <td>1.060797</td>\n",
       "    </tr>\n",
       "    <tr>\n",
       "      <th>19</th>\n",
       "      <td>1</td>\n",
       "      <td>4.562287</td>\n",
       "    </tr>\n",
       "  </tbody>\n",
       "</table>\n",
       "</div>"
      ],
      "text/plain": [
       "    x0         X\n",
       "0    1 -3.292157\n",
       "1    1  0.799528\n",
       "2    1 -0.936214\n",
       "3    1 -4.722680\n",
       "4    1 -3.602674\n",
       "5    1  4.931834\n",
       "6    1 -0.850265\n",
       "7    1  2.454072\n",
       "8    1  2.309657\n",
       "9    1  0.768204\n",
       "10   1  1.567869\n",
       "11   1 -2.362821\n",
       "12   1 -0.283113\n",
       "13   1  1.634975\n",
       "14   1  0.668410\n",
       "15   1  0.998977\n",
       "16   1 -2.482237\n",
       "17   1  2.615475\n",
       "18   1  1.060797\n",
       "19   1  4.562287"
      ]
     },
     "execution_count": 126,
     "metadata": {},
     "output_type": "execute_result"
    }
   ],
   "source": [
    "x"
   ]
  },
  {
   "cell_type": "code",
   "execution_count": 128,
   "id": "0857cbf1",
   "metadata": {},
   "outputs": [],
   "source": [
    "x2 = []\n",
    "    "
   ]
  },
  {
   "cell_type": "code",
   "execution_count": 129,
   "id": "f52588bb",
   "metadata": {},
   "outputs": [
    {
     "data": {
      "text/plain": [
       "[10.838297962214204,\n",
       " 0.6392456222675648,\n",
       " 0.8764965645134252,\n",
       " 22.303702581628606,\n",
       " 12.979259737357268,\n",
       " 24.32298304897853,\n",
       " 0.7229509997394354,\n",
       " 6.022467540105429,\n",
       " 5.334513403812918,\n",
       " 0.5901381448858521,\n",
       " 2.4582140996044743,\n",
       " 5.582920813933811,\n",
       " 0.0801530701082752,\n",
       " 2.6731430888328296,\n",
       " 0.44677233150387136,\n",
       " 0.9979550822468226,\n",
       " 6.161501613736148,\n",
       " 6.840708383912191,\n",
       " 1.1252900525419838,\n",
       " 20.814464658660935]"
      ]
     },
     "execution_count": 129,
     "metadata": {},
     "output_type": "execute_result"
    }
   ],
   "source": [
    "for i in range(len(x)):\n",
    "    x22 = x['X'][i]**2\n",
    "    x2.append(x22)\n",
    "x2"
   ]
  },
  {
   "cell_type": "code",
   "execution_count": 131,
   "id": "01015c4c",
   "metadata": {},
   "outputs": [],
   "source": [
    "x.insert(2,'x2',x2)"
   ]
  },
  {
   "cell_type": "code",
   "execution_count": 132,
   "id": "090036bb",
   "metadata": {},
   "outputs": [
    {
     "data": {
      "text/html": [
       "<div>\n",
       "<style scoped>\n",
       "    .dataframe tbody tr th:only-of-type {\n",
       "        vertical-align: middle;\n",
       "    }\n",
       "\n",
       "    .dataframe tbody tr th {\n",
       "        vertical-align: top;\n",
       "    }\n",
       "\n",
       "    .dataframe thead th {\n",
       "        text-align: right;\n",
       "    }\n",
       "</style>\n",
       "<table border=\"1\" class=\"dataframe\">\n",
       "  <thead>\n",
       "    <tr style=\"text-align: right;\">\n",
       "      <th></th>\n",
       "      <th>x0</th>\n",
       "      <th>X</th>\n",
       "      <th>x2</th>\n",
       "    </tr>\n",
       "  </thead>\n",
       "  <tbody>\n",
       "    <tr>\n",
       "      <th>0</th>\n",
       "      <td>1</td>\n",
       "      <td>-3.292157</td>\n",
       "      <td>10.838298</td>\n",
       "    </tr>\n",
       "    <tr>\n",
       "      <th>1</th>\n",
       "      <td>1</td>\n",
       "      <td>0.799528</td>\n",
       "      <td>0.639246</td>\n",
       "    </tr>\n",
       "    <tr>\n",
       "      <th>2</th>\n",
       "      <td>1</td>\n",
       "      <td>-0.936214</td>\n",
       "      <td>0.876497</td>\n",
       "    </tr>\n",
       "    <tr>\n",
       "      <th>3</th>\n",
       "      <td>1</td>\n",
       "      <td>-4.722680</td>\n",
       "      <td>22.303703</td>\n",
       "    </tr>\n",
       "    <tr>\n",
       "      <th>4</th>\n",
       "      <td>1</td>\n",
       "      <td>-3.602674</td>\n",
       "      <td>12.979260</td>\n",
       "    </tr>\n",
       "    <tr>\n",
       "      <th>5</th>\n",
       "      <td>1</td>\n",
       "      <td>4.931834</td>\n",
       "      <td>24.322983</td>\n",
       "    </tr>\n",
       "    <tr>\n",
       "      <th>6</th>\n",
       "      <td>1</td>\n",
       "      <td>-0.850265</td>\n",
       "      <td>0.722951</td>\n",
       "    </tr>\n",
       "    <tr>\n",
       "      <th>7</th>\n",
       "      <td>1</td>\n",
       "      <td>2.454072</td>\n",
       "      <td>6.022468</td>\n",
       "    </tr>\n",
       "    <tr>\n",
       "      <th>8</th>\n",
       "      <td>1</td>\n",
       "      <td>2.309657</td>\n",
       "      <td>5.334513</td>\n",
       "    </tr>\n",
       "    <tr>\n",
       "      <th>9</th>\n",
       "      <td>1</td>\n",
       "      <td>0.768204</td>\n",
       "      <td>0.590138</td>\n",
       "    </tr>\n",
       "    <tr>\n",
       "      <th>10</th>\n",
       "      <td>1</td>\n",
       "      <td>1.567869</td>\n",
       "      <td>2.458214</td>\n",
       "    </tr>\n",
       "    <tr>\n",
       "      <th>11</th>\n",
       "      <td>1</td>\n",
       "      <td>-2.362821</td>\n",
       "      <td>5.582921</td>\n",
       "    </tr>\n",
       "    <tr>\n",
       "      <th>12</th>\n",
       "      <td>1</td>\n",
       "      <td>-0.283113</td>\n",
       "      <td>0.080153</td>\n",
       "    </tr>\n",
       "    <tr>\n",
       "      <th>13</th>\n",
       "      <td>1</td>\n",
       "      <td>1.634975</td>\n",
       "      <td>2.673143</td>\n",
       "    </tr>\n",
       "    <tr>\n",
       "      <th>14</th>\n",
       "      <td>1</td>\n",
       "      <td>0.668410</td>\n",
       "      <td>0.446772</td>\n",
       "    </tr>\n",
       "    <tr>\n",
       "      <th>15</th>\n",
       "      <td>1</td>\n",
       "      <td>0.998977</td>\n",
       "      <td>0.997955</td>\n",
       "    </tr>\n",
       "    <tr>\n",
       "      <th>16</th>\n",
       "      <td>1</td>\n",
       "      <td>-2.482237</td>\n",
       "      <td>6.161502</td>\n",
       "    </tr>\n",
       "    <tr>\n",
       "      <th>17</th>\n",
       "      <td>1</td>\n",
       "      <td>2.615475</td>\n",
       "      <td>6.840708</td>\n",
       "    </tr>\n",
       "    <tr>\n",
       "      <th>18</th>\n",
       "      <td>1</td>\n",
       "      <td>1.060797</td>\n",
       "      <td>1.125290</td>\n",
       "    </tr>\n",
       "    <tr>\n",
       "      <th>19</th>\n",
       "      <td>1</td>\n",
       "      <td>4.562287</td>\n",
       "      <td>20.814465</td>\n",
       "    </tr>\n",
       "  </tbody>\n",
       "</table>\n",
       "</div>"
      ],
      "text/plain": [
       "    x0         X         x2\n",
       "0    1 -3.292157  10.838298\n",
       "1    1  0.799528   0.639246\n",
       "2    1 -0.936214   0.876497\n",
       "3    1 -4.722680  22.303703\n",
       "4    1 -3.602674  12.979260\n",
       "5    1  4.931834  24.322983\n",
       "6    1 -0.850265   0.722951\n",
       "7    1  2.454072   6.022468\n",
       "8    1  2.309657   5.334513\n",
       "9    1  0.768204   0.590138\n",
       "10   1  1.567869   2.458214\n",
       "11   1 -2.362821   5.582921\n",
       "12   1 -0.283113   0.080153\n",
       "13   1  1.634975   2.673143\n",
       "14   1  0.668410   0.446772\n",
       "15   1  0.998977   0.997955\n",
       "16   1 -2.482237   6.161502\n",
       "17   1  2.615475   6.840708\n",
       "18   1  1.060797   1.125290\n",
       "19   1  4.562287  20.814465"
      ]
     },
     "execution_count": 132,
     "metadata": {},
     "output_type": "execute_result"
    }
   ],
   "source": [
    "x"
   ]
  },
  {
   "cell_type": "code",
   "execution_count": 134,
   "id": "91d0b831",
   "metadata": {},
   "outputs": [],
   "source": [
    "y = pd.DataFrame(yy, columns =['Y'])"
   ]
  },
  {
   "cell_type": "code",
   "execution_count": 135,
   "id": "41337eaa",
   "metadata": {},
   "outputs": [
    {
     "data": {
      "text/html": [
       "<div>\n",
       "<style scoped>\n",
       "    .dataframe tbody tr th:only-of-type {\n",
       "        vertical-align: middle;\n",
       "    }\n",
       "\n",
       "    .dataframe tbody tr th {\n",
       "        vertical-align: top;\n",
       "    }\n",
       "\n",
       "    .dataframe thead th {\n",
       "        text-align: right;\n",
       "    }\n",
       "</style>\n",
       "<table border=\"1\" class=\"dataframe\">\n",
       "  <thead>\n",
       "    <tr style=\"text-align: right;\">\n",
       "      <th></th>\n",
       "      <th>Y</th>\n",
       "    </tr>\n",
       "  </thead>\n",
       "  <tbody>\n",
       "    <tr>\n",
       "      <th>0</th>\n",
       "      <td>-53.468412</td>\n",
       "    </tr>\n",
       "    <tr>\n",
       "      <th>1</th>\n",
       "      <td>-1.262560</td>\n",
       "    </tr>\n",
       "    <tr>\n",
       "      <th>2</th>\n",
       "      <td>-3.506193</td>\n",
       "    </tr>\n",
       "    <tr>\n",
       "      <th>3</th>\n",
       "      <td>-107.223200</td>\n",
       "    </tr>\n",
       "    <tr>\n",
       "      <th>4</th>\n",
       "      <td>-49.131950</td>\n",
       "    </tr>\n",
       "    <tr>\n",
       "      <th>5</th>\n",
       "      <td>8.901224</td>\n",
       "    </tr>\n",
       "    <tr>\n",
       "      <th>6</th>\n",
       "      <td>-5.466242</td>\n",
       "    </tr>\n",
       "    <tr>\n",
       "      <th>7</th>\n",
       "      <td>-5.762632</td>\n",
       "    </tr>\n",
       "    <tr>\n",
       "      <th>8</th>\n",
       "      <td>-0.600586</td>\n",
       "    </tr>\n",
       "    <tr>\n",
       "      <th>9</th>\n",
       "      <td>1.222678</td>\n",
       "    </tr>\n",
       "    <tr>\n",
       "      <th>10</th>\n",
       "      <td>-3.956637</td>\n",
       "    </tr>\n",
       "    <tr>\n",
       "      <th>11</th>\n",
       "      <td>-21.989895</td>\n",
       "    </tr>\n",
       "    <tr>\n",
       "      <th>12</th>\n",
       "      <td>-6.118123</td>\n",
       "    </tr>\n",
       "    <tr>\n",
       "      <th>13</th>\n",
       "      <td>-10.468440</td>\n",
       "    </tr>\n",
       "    <tr>\n",
       "      <th>14</th>\n",
       "      <td>-4.119557</td>\n",
       "    </tr>\n",
       "    <tr>\n",
       "      <th>15</th>\n",
       "      <td>-3.029419</td>\n",
       "    </tr>\n",
       "    <tr>\n",
       "      <th>16</th>\n",
       "      <td>-21.761523</td>\n",
       "    </tr>\n",
       "    <tr>\n",
       "      <th>17</th>\n",
       "      <td>-1.512952</td>\n",
       "    </tr>\n",
       "    <tr>\n",
       "      <th>18</th>\n",
       "      <td>-4.754912</td>\n",
       "    </tr>\n",
       "    <tr>\n",
       "      <th>19</th>\n",
       "      <td>6.507233</td>\n",
       "    </tr>\n",
       "  </tbody>\n",
       "</table>\n",
       "</div>"
      ],
      "text/plain": [
       "             Y\n",
       "0   -53.468412\n",
       "1    -1.262560\n",
       "2    -3.506193\n",
       "3  -107.223200\n",
       "4   -49.131950\n",
       "5     8.901224\n",
       "6    -5.466242\n",
       "7    -5.762632\n",
       "8    -0.600586\n",
       "9     1.222678\n",
       "10   -3.956637\n",
       "11  -21.989895\n",
       "12   -6.118123\n",
       "13  -10.468440\n",
       "14   -4.119557\n",
       "15   -3.029419\n",
       "16  -21.761523\n",
       "17   -1.512952\n",
       "18   -4.754912\n",
       "19    6.507233"
      ]
     },
     "execution_count": 135,
     "metadata": {},
     "output_type": "execute_result"
    }
   ],
   "source": [
    "y"
   ]
  },
  {
   "cell_type": "code",
   "execution_count": 136,
   "id": "30da24e7",
   "metadata": {},
   "outputs": [],
   "source": [
    "xtrans = x.T"
   ]
  },
  {
   "cell_type": "code",
   "execution_count": 137,
   "id": "9a6cc886",
   "metadata": {},
   "outputs": [
    {
     "data": {
      "text/html": [
       "<div>\n",
       "<style scoped>\n",
       "    .dataframe tbody tr th:only-of-type {\n",
       "        vertical-align: middle;\n",
       "    }\n",
       "\n",
       "    .dataframe tbody tr th {\n",
       "        vertical-align: top;\n",
       "    }\n",
       "\n",
       "    .dataframe thead th {\n",
       "        text-align: right;\n",
       "    }\n",
       "</style>\n",
       "<table border=\"1\" class=\"dataframe\">\n",
       "  <thead>\n",
       "    <tr style=\"text-align: right;\">\n",
       "      <th></th>\n",
       "      <th>0</th>\n",
       "      <th>1</th>\n",
       "      <th>2</th>\n",
       "      <th>3</th>\n",
       "      <th>4</th>\n",
       "      <th>5</th>\n",
       "      <th>6</th>\n",
       "      <th>7</th>\n",
       "      <th>8</th>\n",
       "      <th>9</th>\n",
       "      <th>10</th>\n",
       "      <th>11</th>\n",
       "      <th>12</th>\n",
       "      <th>13</th>\n",
       "      <th>14</th>\n",
       "      <th>15</th>\n",
       "      <th>16</th>\n",
       "      <th>17</th>\n",
       "      <th>18</th>\n",
       "      <th>19</th>\n",
       "    </tr>\n",
       "  </thead>\n",
       "  <tbody>\n",
       "    <tr>\n",
       "      <th>x0</th>\n",
       "      <td>1.000000</td>\n",
       "      <td>1.000000</td>\n",
       "      <td>1.000000</td>\n",
       "      <td>1.000000</td>\n",
       "      <td>1.000000</td>\n",
       "      <td>1.000000</td>\n",
       "      <td>1.000000</td>\n",
       "      <td>1.000000</td>\n",
       "      <td>1.000000</td>\n",
       "      <td>1.000000</td>\n",
       "      <td>1.000000</td>\n",
       "      <td>1.000000</td>\n",
       "      <td>1.000000</td>\n",
       "      <td>1.000000</td>\n",
       "      <td>1.000000</td>\n",
       "      <td>1.000000</td>\n",
       "      <td>1.000000</td>\n",
       "      <td>1.000000</td>\n",
       "      <td>1.000000</td>\n",
       "      <td>1.000000</td>\n",
       "    </tr>\n",
       "    <tr>\n",
       "      <th>X</th>\n",
       "      <td>-3.292157</td>\n",
       "      <td>0.799528</td>\n",
       "      <td>-0.936214</td>\n",
       "      <td>-4.722680</td>\n",
       "      <td>-3.602674</td>\n",
       "      <td>4.931834</td>\n",
       "      <td>-0.850265</td>\n",
       "      <td>2.454072</td>\n",
       "      <td>2.309657</td>\n",
       "      <td>0.768204</td>\n",
       "      <td>1.567869</td>\n",
       "      <td>-2.362821</td>\n",
       "      <td>-0.283113</td>\n",
       "      <td>1.634975</td>\n",
       "      <td>0.668410</td>\n",
       "      <td>0.998977</td>\n",
       "      <td>-2.482237</td>\n",
       "      <td>2.615475</td>\n",
       "      <td>1.060797</td>\n",
       "      <td>4.562287</td>\n",
       "    </tr>\n",
       "    <tr>\n",
       "      <th>x2</th>\n",
       "      <td>10.838298</td>\n",
       "      <td>0.639246</td>\n",
       "      <td>0.876497</td>\n",
       "      <td>22.303703</td>\n",
       "      <td>12.979260</td>\n",
       "      <td>24.322983</td>\n",
       "      <td>0.722951</td>\n",
       "      <td>6.022468</td>\n",
       "      <td>5.334513</td>\n",
       "      <td>0.590138</td>\n",
       "      <td>2.458214</td>\n",
       "      <td>5.582921</td>\n",
       "      <td>0.080153</td>\n",
       "      <td>2.673143</td>\n",
       "      <td>0.446772</td>\n",
       "      <td>0.997955</td>\n",
       "      <td>6.161502</td>\n",
       "      <td>6.840708</td>\n",
       "      <td>1.125290</td>\n",
       "      <td>20.814465</td>\n",
       "    </tr>\n",
       "  </tbody>\n",
       "</table>\n",
       "</div>"
      ],
      "text/plain": [
       "           0         1         2          3          4          5         6   \\\n",
       "x0   1.000000  1.000000  1.000000   1.000000   1.000000   1.000000  1.000000   \n",
       "X   -3.292157  0.799528 -0.936214  -4.722680  -3.602674   4.931834 -0.850265   \n",
       "x2  10.838298  0.639246  0.876497  22.303703  12.979260  24.322983  0.722951   \n",
       "\n",
       "          7         8         9         10        11        12        13  \\\n",
       "x0  1.000000  1.000000  1.000000  1.000000  1.000000  1.000000  1.000000   \n",
       "X   2.454072  2.309657  0.768204  1.567869 -2.362821 -0.283113  1.634975   \n",
       "x2  6.022468  5.334513  0.590138  2.458214  5.582921  0.080153  2.673143   \n",
       "\n",
       "          14        15        16        17        18         19  \n",
       "x0  1.000000  1.000000  1.000000  1.000000  1.000000   1.000000  \n",
       "X   0.668410  0.998977 -2.482237  2.615475  1.060797   4.562287  \n",
       "x2  0.446772  0.997955  6.161502  6.840708  1.125290  20.814465  "
      ]
     },
     "execution_count": 137,
     "metadata": {},
     "output_type": "execute_result"
    }
   ],
   "source": [
    "xtrans"
   ]
  },
  {
   "cell_type": "code",
   "execution_count": 139,
   "id": "48e5d152",
   "metadata": {},
   "outputs": [],
   "source": [
    "xtransx = xtrans.dot(x)"
   ]
  },
  {
   "cell_type": "code",
   "execution_count": 140,
   "id": "7f73deec",
   "metadata": {},
   "outputs": [],
   "source": [
    "import numpy as np\n",
    "xtransxinv = np.linalg.inv(xtransx)"
   ]
  },
  {
   "cell_type": "code",
   "execution_count": 141,
   "id": "40fd5043",
   "metadata": {},
   "outputs": [],
   "source": [
    "xx1 = xtransxinv.dot(xtrans)"
   ]
  },
  {
   "cell_type": "code",
   "execution_count": 142,
   "id": "52787cfa",
   "metadata": {},
   "outputs": [],
   "source": [
    "bteeta = xx1.dot(y)"
   ]
  },
  {
   "cell_type": "code",
   "execution_count": 143,
   "id": "5ef864a8",
   "metadata": {},
   "outputs": [
    {
     "data": {
      "text/plain": [
       "array([[-6.11973959],\n",
       "       [ 8.48492679],\n",
       "       [-1.62853134]])"
      ]
     },
     "execution_count": 143,
     "metadata": {},
     "output_type": "execute_result"
    }
   ],
   "source": [
    "bteeta"
   ]
  },
  {
   "cell_type": "code",
   "execution_count": 144,
   "id": "f3480989",
   "metadata": {},
   "outputs": [],
   "source": [
    "b0 = bteeta[0]\n",
    "b1 = bteeta[1]\n",
    "b2 = bteeta[2]"
   ]
  },
  {
   "cell_type": "code",
   "execution_count": 145,
   "id": "2777c4c6",
   "metadata": {},
   "outputs": [
    {
     "data": {
      "text/plain": [
       "array([-1.62853134])"
      ]
     },
     "execution_count": 145,
     "metadata": {},
     "output_type": "execute_result"
    }
   ],
   "source": [
    "b2"
   ]
  },
  {
   "cell_type": "code",
   "execution_count": 152,
   "id": "efad6031",
   "metadata": {},
   "outputs": [
    {
     "name": "stdout",
     "output_type": "stream",
     "text": [
      "[-3.29215704  0.79952837 -0.93621395 -4.7226796  -3.60267397  4.93183364\n",
      " -0.85026525  2.45407162  2.30965656  0.76820449  1.56786929 -2.36282052\n",
      " -0.28311318  1.63497495  0.6684103   0.99897702 -2.48223722  2.61547479\n",
      "  1.0607969   4.56228722]\n",
      "[10.83829796  0.63924562  0.87649656 22.30370258 12.97925974 24.32298305\n",
      "  0.722951    6.02246754  5.3345134   0.59013814  2.4582141   5.58292081\n",
      "  0.08015307  2.67314309  0.44677233  0.99795508  6.16150161  6.84070838\n",
      "  1.12529005 20.81446466]\n"
     ]
    }
   ],
   "source": [
    "xx2 = xx**2\n",
    "print(xx)\n",
    "print(xx2)"
   ]
  },
  {
   "cell_type": "code",
   "execution_count": 154,
   "id": "ed0a772c",
   "metadata": {},
   "outputs": [
    {
     "data": {
      "image/png": "[encoded data removed]",
      "text/plain": [
       "<Figure size 720x360 with 1 Axes>"
      ]
     },
     "metadata": {
      "needs_background": "light"
     },
     "output_type": "display_data"
    }
   ],
   "source": [
    "import matplotlib.pyplot as plt\n",
    "%matplotlib inline\n",
    "\n",
    "plt.rcParams['figure.figsize'] = (10.0, 5.0)\n",
    "\n",
    "\n",
    "Y = b0 + b1*xx + b2*xx2\n",
    "\n",
    "\n",
    "\n",
    "plt.plot(xx, Y, color='blue', label='Regression Line')\n",
    "\n",
    "plt.scatter(xx, yy, c='green', label='Scatter data')\n",
    "\n",
    "plt.xlabel('x')\n",
    "plt.ylabel('y')\n",
    "plt.legend()\n",
    "plt.show()"
   ]
  },
  {
   "cell_type": "code",
   "execution_count": 155,
   "id": "c459f7fe",
   "metadata": {},
   "outputs": [
    {
     "data": {
      "text/plain": [
       "array([-51.70395899,  -0.3768314 , -15.49084857, -82.51360898,\n",
       "       -57.82529579,  -3.8842325 , -14.51152638,   4.89510132,\n",
       "         4.7901049 ,  -0.56263917,   3.18023781, -35.26006027,\n",
       "        -8.65246595,   3.39960586,  -1.17590986,   0.73130614,\n",
       "       -37.21553918,   4.93206451,   1.04847428,  -1.30607467])"
      ]
     },
     "execution_count": 155,
     "metadata": {},
     "output_type": "execute_result"
    }
   ],
   "source": [
    "Y"
   ]
  },
  {
   "cell_type": "code",
   "execution_count": null,
   "id": "c6d8b163",
   "metadata": {},
   "outputs": [],
   "source": []
  }
 ],
 "metadata": {
  "kernelspec": {
   "display_name": "Python 3 (ipykernel)",
   "language": "python",
   "name": "python3"
  },
  "language_info": {
   "codemirror_mode": {
    "name": "ipython",
    "version": 3
   },
   "file_extension": ".py",
   "mimetype": "text/x-python",
   "name": "python",
   "nbconvert_exporter": "python",
   "pygments_lexer": "ipython3",
   "version": "3.8.10"
  }
 },
 "nbformat": 4,
 "nbformat_minor": 5
}
