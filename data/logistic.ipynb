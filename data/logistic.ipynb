{
 "cells": [
  {
   "cell_type": "code",
   "execution_count": 8,
   "id": "d8eb4d9d",
   "metadata": {},
   "outputs": [
    {
     "name": "stdout",
     "output_type": "stream",
     "text": [
      "      User ID  Gender  Age  EstimatedSalary  Purchased\n",
      "0    15624510    Male   19            19000          0\n",
      "1    15810944    Male   35            20000          0\n",
      "2    15668575  Female   26            43000          0\n",
      "3    15603246  Female   27            57000          0\n",
      "4    15804002    Male   19            76000          0\n",
      "..        ...     ...  ...              ...        ...\n",
      "395  15691863  Female   46            41000          1\n",
      "396  15706071    Male   51            23000          1\n",
      "397  15654296  Female   50            20000          1\n",
      "398  15755018    Male   36            33000          0\n",
      "399  15594041  Female   49            36000          1\n",
      "\n",
      "[400 rows x 5 columns]\n"
     ]
    }
   ],
   "source": [
    "import numpy as np\n",
    "import pandas as pd\n",
    "df=pd.read_csv('Social_Network_Ads.csv')\n",
    "print(df)"
   ]
  },
  {
   "cell_type": "code",
   "execution_count": 9,
   "id": "04b27a71",
   "metadata": {},
   "outputs": [
    {
     "name": "stdout",
     "output_type": "stream",
     "text": [
      "      User ID  Gender  Age  EstimatedSalary  Purchased\n",
      "0    15624510       1   19            19000          0\n",
      "1    15810944       1   35            20000          0\n",
      "2    15668575       0   26            43000          0\n",
      "3    15603246       0   27            57000          0\n",
      "4    15804002       1   19            76000          0\n",
      "..        ...     ...  ...              ...        ...\n",
      "395  15691863       0   46            41000          1\n",
      "396  15706071       1   51            23000          1\n",
      "397  15654296       0   50            20000          1\n",
      "398  15755018       1   36            33000          0\n",
      "399  15594041       0   49            36000          1\n",
      "\n",
      "[400 rows x 5 columns]\n"
     ]
    }
   ],
   "source": [
    "gen={'Male':1,'Female':0}\n",
    "df.Gender=[gen[item]for item in df.Gender]\n",
    "print(df)"
   ]
  },
  {
   "cell_type": "code",
   "execution_count": 11,
   "id": "3a1d7bdb",
   "metadata": {},
   "outputs": [
    {
     "name": "stdout",
     "output_type": "stream",
     "text": [
      "     Age  EstimatedSalary\n",
      "0     19            19000\n",
      "1     35            20000\n",
      "2     26            43000\n",
      "3     27            57000\n",
      "4     19            76000\n",
      "..   ...              ...\n",
      "395   46            41000\n",
      "396   51            23000\n",
      "397   50            20000\n",
      "398   36            33000\n",
      "399   49            36000\n",
      "\n",
      "[400 rows x 2 columns] \n",
      " 0      0\n",
      "1      0\n",
      "2      0\n",
      "3      0\n",
      "4      0\n",
      "      ..\n",
      "395    1\n",
      "396    1\n",
      "397    1\n",
      "398    0\n",
      "399    1\n",
      "Name: Purchased, Length: 400, dtype: int64\n"
     ]
    }
   ],
   "source": [
    "X=df[['Age','EstimatedSalary']]\n",
    "Y=df['Purchased']\n",
    "print(X,\"\\n\",Y)"
   ]
  },
  {
   "cell_type": "code",
   "execution_count": 4,
   "id": "ea3f171b",
   "metadata": {},
   "outputs": [
    {
     "name": "stdout",
     "output_type": "stream",
     "text": [
      "X      B0  Age  EstimatedSalary\n",
      "0     1   19            19000\n",
      "1     1   35            20000\n",
      "2     1   26            43000\n",
      "3     1   27            57000\n",
      "4     1   19            76000\n",
      "..   ..  ...              ...\n",
      "395   1   46            41000\n",
      "396   1   51            23000\n",
      "397   1   50            20000\n",
      "398   1   36            33000\n",
      "399   1   49            36000\n",
      "\n",
      "[400 rows x 3 columns] \n",
      "XT                    0      1      2      3      4      5      6       7    \\\n",
      "B0                   1      1      1      1      1      1      1       1   \n",
      "Age                 19     35     26     27     19     27     27      32   \n",
      "EstimatedSalary  19000  20000  43000  57000  76000  58000  84000  150000   \n",
      "\n",
      "                   8      9    ...    390    391    392    393    394    395  \\\n",
      "B0                   1      1  ...      1      1      1      1      1      1   \n",
      "Age                 25     35  ...     48     47     45     60     39     46   \n",
      "EstimatedSalary  33000  65000  ...  33000  23000  45000  42000  59000  41000   \n",
      "\n",
      "                   396    397    398    399  \n",
      "B0                   1      1      1      1  \n",
      "Age                 51     50     36     49  \n",
      "EstimatedSalary  23000  20000  33000  36000  \n",
      "\n",
      "[3 rows x 400 columns]\n"
     ]
    }
   ],
   "source": [
    "X.insert(0,'B0',1)\n",
    "xt=X.T\n",
    "print(\"X\",X,\"\\nXT\",xt)"
   ]
  },
  {
   "cell_type": "code",
   "execution_count": 5,
   "id": "82918947",
   "metadata": {},
   "outputs": [
    {
     "name": "stdout",
     "output_type": "stream",
     "text": [
      "XTX [[          400         15062      27897000]\n",
      " [        15062        611006    1072601000]\n",
      " [     27897000    1072601000 2409485000000]]\n",
      "XTXI [[ 4.05225685e-02 -8.02211160e-04 -1.12059465e-07]\n",
      " [-8.02211160e-04  2.33700867e-05 -1.11538095e-09]\n",
      " [-1.12059465e-07 -1.11538095e-09  2.20897064e-12]]\n"
     ]
    }
   ],
   "source": [
    "XTX=np.dot(xt,X)\n",
    "print(\"XTX\",XTX)\n",
    "XTXI=np.linalg.inv(XTX)\n",
    "print(\"XTXI\",XTXI)"
   ]
  },
  {
   "cell_type": "code",
   "execution_count": 6,
   "id": "d3f5ba03",
   "metadata": {},
   "outputs": [
    {
     "name": "stdout",
     "output_type": "stream",
     "text": [
      "XTY [     143     6634 12337000]\n",
      "BHAT [-9.09619165e-01  2.65605047e-02  3.82813004e-06]\n"
     ]
    }
   ],
   "source": [
    "XTY=np.dot(xt,Y)\n",
    "print(\"XTY\",XTY)\n",
    "BHAT=np.dot(XTXI,XTY)\n",
    "print(\"BHAT\",BHAT)"
   ]
  },
  {
   "cell_type": "code",
   "execution_count": 7,
   "id": "4e8bc426",
   "metadata": {},
   "outputs": [
    {
     "name": "stdout",
     "output_type": "stream",
     "text": [
      "Enter the age : 1\n",
      "Enter the salary : 1\n",
      "Y_PRED -0.8830548321026827\n",
      "Value of sigmoid function :  0.29256409245341275\n",
      "PREDICTION : NO\n"
     ]
    }
   ],
   "source": [
    "age = int(input(\"Enter the age : \"))\n",
    "salary = float(input(\"Enter the salary : \"))\n",
    "y_pred=BHAT[0]+BHAT[1]*age+BHAT[2]*salary\n",
    "print(\"Y_PRED\",y_pred)\n",
    "prediction=1/(1+(2.718)**-y_pred)\n",
    "print(\"Value of sigmoid function : \",prediction)\n",
    "if prediction>0.5:\n",
    " print(\"PREDICTION : YES\")\n",
    "else:\n",
    " print(\"PREDICTION : NO\")"
   ]
  },
  {
   "cell_type": "code",
   "execution_count": null,
   "id": "0152cc51",
   "metadata": {},
   "outputs": [],
   "source": []
  }
 ],
 "metadata": {
  "kernelspec": {
   "display_name": "Python 3 (ipykernel)",
   "language": "python",
   "name": "python3"
  },
  "language_info": {
   "codemirror_mode": {
    "name": "ipython",
    "version": 3
   },
   "file_extension": ".py",
   "mimetype": "text/x-python",
   "name": "python",
   "nbconvert_exporter": "python",
   "pygments_lexer": "ipython3",
   "version": "3.9.7"
  }
 },
 "nbformat": 4,
 "nbformat_minor": 5
}
