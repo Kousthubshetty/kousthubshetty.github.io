{
 "cells": [
  {
   "cell_type": "code",
   "execution_count": 1,
   "id": "fd4980e4",
   "metadata": {},
   "outputs": [],
   "source": [
    "import numpy as np"
   ]
  },
  {
   "cell_type": "code",
   "execution_count": 17,
   "id": "a602913b",
   "metadata": {},
   "outputs": [],
   "source": [
    "def sigmoid(x):\n",
    " return (1/(1+np.exp(-x)))"
   ]
  },
  {
   "cell_type": "code",
   "execution_count": 18,
   "id": "5150611f",
   "metadata": {},
   "outputs": [
    {
     "name": "stdout",
     "output_type": "stream",
     "text": [
      "[0.15 0.2  0.25]\n"
     ]
    }
   ],
   "source": [
    "trainX=np.array([[0,0,1],\n",
    " [1,1,1],\n",
    " [1,0,1],\n",
    " [0,1,1]])\n",
    "trainY=np.array([[0,1,1,0]]).T\n",
    "weights=np.array([0.15,0.20,0.25])\n",
    "print(weights)"
   ]
  },
  {
   "cell_type": "code",
   "execution_count": 19,
   "id": "8a496bf9",
   "metadata": {},
   "outputs": [
    {
     "name": "stdout",
     "output_type": "stream",
     "text": [
      "Outputs after training\n",
      "[0.5621765  0.64565631 0.59868766 0.61063923]\n"
     ]
    }
   ],
   "source": [
    "output=sigmoid(np.dot(trainX,weights))\n",
    "print(\"Outputs after training\")\n",
    "print(output)"
   ]
  },
  {
   "cell_type": "code",
   "execution_count": 25,
   "id": "c9d1163a",
   "metadata": {},
   "outputs": [
    {
     "name": "stdout",
     "output_type": "stream",
     "text": [
      "[0.49384556]\n"
     ]
    }
   ],
   "source": [
    "rmse=0\n",
    "for i in range(len(trainY)):\n",
    " y_pred=sigmoid(np.dot(trainX[i],weights))\n",
    " rmse+=(trainY[i]-y_pred)**2\n",
    "rmse=np.sqrt(rmse/len(trainY))\n",
    "print(rmse)"
   ]
  },
  {
   "cell_type": "code",
   "execution_count": 21,
   "id": "9ec707e6",
   "metadata": {},
   "outputs": [
    {
     "name": "stdout",
     "output_type": "stream",
     "text": [
      "total loss= [0.48776687]\n"
     ]
    }
   ],
   "source": [
    "e1=((trainY[0]-output[0])**2)/2\n",
    "e2=((trainY[1]-output[1])**2)/2\n",
    "e3=((trainY[2]-output[2])**2)/2\n",
    "e4=((trainY[3]-output[3])**2)/2\n",
    "etotal=e1+e2+e3+e4\n",
    "print(\"total loss=\",etotal)"
   ]
  }
 ],
 "metadata": {
  "kernelspec": {
   "display_name": "Python 3 (ipykernel)",
   "language": "python",
   "name": "python3"
  },
  "language_info": {
   "codemirror_mode": {
    "name": "ipython",
    "version": 3
   },
   "file_extension": ".py",
   "mimetype": "text/x-python",
   "name": "python",
   "nbconvert_exporter": "python",
   "pygments_lexer": "ipython3",
   "version": "3.9.7"
  }
 },
 "nbformat": 4,
 "nbformat_minor": 5
}
