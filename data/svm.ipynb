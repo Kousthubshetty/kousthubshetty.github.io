{
 "cells": [
  {
   "cell_type": "code",
   "execution_count": 12,
   "id": "b548b4f0",
   "metadata": {},
   "outputs": [],
   "source": [
    "import numpy as np\n",
    "import pandas as pd\n",
    "s1 = [1,0]\n",
    "s2 = [3,1]\n",
    "s3 = [3,-1]"
   ]
  },
  {
   "cell_type": "code",
   "execution_count": 13,
   "id": "94ed5fb2",
   "metadata": {},
   "outputs": [
    {
     "name": "stdout",
     "output_type": "stream",
     "text": [
      "[1, 0, 1]\n",
      "[3, 1, 1]\n",
      "[3, -1, 1]\n"
     ]
    }
   ],
   "source": [
    "s1.append(1)\n",
    "s2.append(1)\n",
    "s3.append(1)\n",
    "print(s1)\n",
    "print(s2)\n",
    "print(s3)"
   ]
  },
  {
   "cell_type": "code",
   "execution_count": 14,
   "id": "49bb0dc2",
   "metadata": {},
   "outputs": [
    {
     "name": "stdout",
     "output_type": "stream",
     "text": [
      "Transpose\n",
      "[1 0 1]\n",
      "[3 1 1]\n",
      "[ 3 -1  1]\n"
     ]
    }
   ],
   "source": [
    "s1t=np.transpose(s1)\n",
    "s2t=np.transpose(s2)\n",
    "s3t=np.transpose(s3)\n",
    "print(\"Transpose\")\n",
    "print(s1t)\n",
    "print(s2t)\n",
    "print(s3t)"
   ]
  },
  {
   "cell_type": "code",
   "execution_count": 15,
   "id": "26271387",
   "metadata": {},
   "outputs": [],
   "source": [
    "s1ts1=np.dot(s1t,s1)\n",
    "s1ts2=np.dot(s1t,s2)\n",
    "s1ts3=np.dot(s1t,s3)\n",
    "s2ts1=np.dot(s2t,s1)\n",
    "s2ts2=np.dot(s2t,s2)\n",
    "s2ts3=np.dot(s2t,s3)\n",
    "s3ts1=np.dot(s3t,s1)\n",
    "s3ts2=np.dot(s3t,s2)\n",
    "s3ts3=np.dot(s3t,s3)\n"
   ]
  },
  {
   "cell_type": "code",
   "execution_count": 16,
   "id": "071b5020",
   "metadata": {},
   "outputs": [
    {
     "name": "stdout",
     "output_type": "stream",
     "text": [
      "[[ 2  4  4]\n",
      " [ 4 11  9]\n",
      " [ 4  9 11]]\n"
     ]
    }
   ],
   "source": [
    "x=np.array([[s1ts1,s1ts2,s1ts3],[s2ts1,s2ts2,s2ts3],[s3ts1,s3ts2,s3ts3]])\n",
    "print(x)\n"
   ]
  },
  {
   "cell_type": "code",
   "execution_count": 20,
   "id": "977cbe26",
   "metadata": {},
   "outputs": [],
   "source": [
    "xt=x.T\n",
    "xtx=np.dot(xt,x)\n",
    "xtxi=np.linalg.inv(xtx)"
   ]
  },
  {
   "cell_type": "code",
   "execution_count": 7,
   "id": "8f4e8ed8",
   "metadata": {},
   "outputs": [],
   "source": [
    "y=np.array([-1,1,1])\n",
    "xty=np.dot(xt,y)"
   ]
  },
  {
   "cell_type": "code",
   "execution_count": 8,
   "id": "82d0caf9",
   "metadata": {},
   "outputs": [
    {
     "data": {
      "text/plain": [
       "array([-3.5 ,  0.75,  0.75])"
      ]
     },
     "execution_count": 8,
     "metadata": {},
     "output_type": "execute_result"
    }
   ],
   "source": [
    "bhat=np.dot(xtxi,xty)\n",
    "bhat"
   ]
  },
  {
   "cell_type": "code",
   "execution_count": 9,
   "id": "14ca95d0",
   "metadata": {},
   "outputs": [
    {
     "name": "stdout",
     "output_type": "stream",
     "text": [
      "\n",
      "w [ 1.  0. -2.]\n"
     ]
    },
    {
     "data": {
      "text/plain": [
       "array([ 1.,  0., -2.])"
      ]
     },
     "execution_count": 9,
     "metadata": {},
     "output_type": "execute_result"
    }
   ],
   "source": [
    "w=[]\n",
    "w=bhat[0] *s1t+bhat[1]*s2t+bhat[2]*s3t\n",
    "print(\"\\nw\",w)\n",
    "w"
   ]
  },
  {
   "cell_type": "code",
   "execution_count": 10,
   "id": "d656d723",
   "metadata": {},
   "outputs": [],
   "source": [
    "b=np.array(round(w[2]))\n",
    "w=np.array([w[0],w[1]])"
   ]
  },
  {
   "cell_type": "code",
   "execution_count": 11,
   "id": "0876314a",
   "metadata": {},
   "outputs": [
    {
     "name": "stdout",
     "output_type": "stream",
     "text": [
      "Enter x 1\n",
      "Enter y 1\n",
      "\n",
      "Res 1\n",
      "\n",
      "Positively Classified\n"
     ]
    }
   ],
   "source": [
    "x=int(input(\"Enter x \"))\n",
    "y=int(input(\"Enter y \"))\n",
    "p=np.array([x,y])\n",
    "res=round(np.dot(w,p))\n",
    "print(\"\\nRes\",res)\n",
    "if(res>b):\n",
    " print(\"\\nPositively Classified\")\n",
    "elif (res<b):\n",
    " print(\"\\nNegatively Classified\")"
   ]
  }
 ],
 "metadata": {
  "kernelspec": {
   "display_name": "Python 3 (ipykernel)",
   "language": "python",
   "name": "python3"
  },
  "language_info": {
   "codemirror_mode": {
    "name": "ipython",
    "version": 3
   },
   "file_extension": ".py",
   "mimetype": "text/x-python",
   "name": "python",
   "nbconvert_exporter": "python",
   "pygments_lexer": "ipython3",
   "version": "3.9.7"
  }
 },
 "nbformat": 4,
 "nbformat_minor": 5
}
