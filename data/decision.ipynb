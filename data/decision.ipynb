{
 "cells": [
  {
   "cell_type": "code",
   "execution_count": 1,
   "metadata": {},
   "outputs": [
    {
     "name": "stdout",
     "output_type": "stream",
     "text": [
      "     Outlook Temperature Humidity    Wind Play\n",
      "0      Sunny         Hot     High    Weak   No\n",
      "1      Sunny         Hot     High  Strong   No\n",
      "2   Overcast         Hot     High    Weak  Yes\n",
      "3       Rain        Mild     High    Weak  Yes\n",
      "4       Rain        Cool   Normal    Weak  Yes\n",
      "5       Rain        Cool   Normal  Strong   No\n",
      "6   Overcast        Cool   Normal  Strong  Yes\n",
      "7      Sunny        Mild     High    Weak   No\n",
      "8      Sunny        Cool   Normal    Weak  Yes\n",
      "9       Rain        Mild   Normal    Weak  Yes\n",
      "10     Sunny        Mild   Normal  Strong  Yes\n",
      "11  Overcast        Mild     High  Strong  Yes\n",
      "12  Overcast         Hot   Normal    Weak  Yes\n",
      "13      Rain        Mild     High  Strong   No\n"
     ]
    }
   ],
   "source": [
    "import numpy as np\n",
    "import math \n",
    "import pandas as pd\n",
    "df=pd.read_csv('Book1.csv')\n",
    "print(df)"
   ]
  },
  {
   "cell_type": "code",
   "execution_count": 2,
   "metadata": {},
   "outputs": [],
   "source": [
    "outlook=df['Outlook'].tolist()\n",
    "temp=df['Temperature'].tolist()\n",
    "humidity=df['Humidity'].tolist()\n",
    "wind=df['Wind'].tolist()\n",
    "play=df['Play'].tolist()"
   ]
  },
  {
   "cell_type": "code",
   "execution_count": 3,
   "metadata": {},
   "outputs": [],
   "source": [
    "totoutlookraws=len(outlook)"
   ]
  },
  {
   "cell_type": "code",
   "execution_count": 4,
   "metadata": {},
   "outputs": [],
   "source": [
    "totyes = totno = 0"
   ]
  },
  {
   "cell_type": "code",
   "execution_count": 5,
   "metadata": {},
   "outputs": [
    {
     "name": "stdout",
     "output_type": "stream",
     "text": [
      "\n",
      "yes is:\n",
      " 9\n",
      "\n",
      "No is:\n",
      " 5\n"
     ]
    }
   ],
   "source": [
    "for i in play:\n",
    "    if i == 'Yes':\n",
    "        totyes += 1\n",
    "    elif i == 'No':\n",
    "        totno += 1\n",
    "print(\"\\nyes is:\\n\",totyes)\n",
    "print(\"\\nNo is:\\n\",totno)\n"
   ]
  },
  {
   "cell_type": "code",
   "execution_count": 6,
   "metadata": {},
   "outputs": [
    {
     "name": "stdout",
     "output_type": "stream",
     "text": [
      "\n",
      "Total yes and no count is:\n",
      " 14\n"
     ]
    }
   ],
   "source": [
    "totyesno=totyes+totno\n",
    "print(\"\\nTotal yes and no count is:\\n\",totyesno)"
   ]
  },
  {
   "cell_type": "code",
   "execution_count": 7,
   "metadata": {},
   "outputs": [
    {
     "name": "stdout",
     "output_type": "stream",
     "text": [
      "\n",
      "Entropy:\n",
      " 0.9402859586706311\n"
     ]
    }
   ],
   "source": [
    "entropy=-((totyes/totyesno)*math.log2(totyes/totyesno))-((totno/totyesno)*math.log2(totno/totyesno))\n",
    "print(\"\\nEntropy:\\n\",entropy)"
   ]
  },
  {
   "cell_type": "code",
   "execution_count": 8,
   "metadata": {},
   "outputs": [],
   "source": [
    "sunnyyes = sunnyno = overyes = overno = rainyes = rainno = 0\n"
   ]
  },
  {
   "cell_type": "code",
   "execution_count": 9,
   "metadata": {},
   "outputs": [
    {
     "name": "stdout",
     "output_type": "stream",
     "text": [
      "\n",
      "sunny yes:\t 2 \n",
      "sunny no:\t 3 \n",
      "overcast yes:\t 4 \n",
      "overcast no:\t 0 \n",
      "rain yes:\t 3 \n",
      "rain no:\t 2\n"
     ]
    }
   ],
   "source": [
    "for i,j in zip(outlook,play):\n",
    "     if i==\"Sunny\" and j==\"Yes\":\n",
    "         sunnyyes += 1\n",
    "     elif i==\"Sunny\" and j==\"No\":\n",
    "         sunnyno += 1\n",
    "     elif i==\"Overcast\" and j==\"Yes\":\n",
    "         overyes += 1\n",
    "     elif i==\"Overcast\" and j==\"No\":\n",
    "         overno += 1\n",
    "     elif i==\"Rain\" and j==\"Yes\":\n",
    "         rainyes += 1\n",
    "     elif i==\"Rain\" and j==\"No\":\n",
    "         rainno += 1\n",
    "print(\"\\nsunny yes:\\t\",sunnyyes,\"\\nsunny no:\\t\",sunnyno,\"\\novercast yes:\\t\",overyes,\"\\novercast no:\\t\",overno,\"\\nrain yes:\\t\",rainyes,\"\\nrain no:\\t\",rainno)"
   ]
  },
  {
   "cell_type": "code",
   "execution_count": 10,
   "metadata": {},
   "outputs": [],
   "source": [
    "totsunny = sunnyyes + sunnyno\n",
    "totovercast = overyes + overno"
   ]
  },
  {
   "cell_type": "code",
   "execution_count": 11,
   "metadata": {},
   "outputs": [
    {
     "name": "stdout",
     "output_type": "stream",
     "text": [
      "\n",
      "Total sunny:\t 5 \n",
      "Total overcast:\t 4 \n",
      "Total rain:\t 5\n"
     ]
    }
   ],
   "source": [
    "totrain = rainyes + rainno \n",
    "print(\"\\nTotal sunny:\\t\",totsunny,\"\\nTotal overcast:\\t\",totovercast,\"\\nTotal rain:\\t\",totrain)\n"
   ]
  },
  {
   "cell_type": "code",
   "execution_count": 12,
   "metadata": {},
   "outputs": [],
   "source": [
    "if totsunny == sunnyyes or totsunny == sunnyno:\n",
    "    sunnyentropy = 0\n",
    "else:\n",
    "    sunnyentropy = -((sunnyyes/totsunny)*math.log2(sunnyyes/totsunny))-((sunnyno/totsunny)*math.log2(sunnyno/totsunny))"
   ]
  },
  {
   "cell_type": "code",
   "execution_count": 13,
   "metadata": {},
   "outputs": [
    {
     "name": "stdout",
     "output_type": "stream",
     "text": [
      "\n",
      "Sunny Entropy:\n",
      " 0.9709505944546686\n"
     ]
    }
   ],
   "source": [
    "print(\"\\nSunny Entropy:\\n\",sunnyentropy)\n"
   ]
  },
  {
   "cell_type": "code",
   "execution_count": 14,
   "metadata": {},
   "outputs": [
    {
     "name": "stdout",
     "output_type": "stream",
     "text": [
      "\n",
      "Overcast Entropy:\n",
      " 0\n"
     ]
    }
   ],
   "source": [
    "if totovercast == overyes or totovercast == overno:\n",
    "    overcastentropy = 0\n",
    "else:\n",
    "    overcastentropy = -((overyes/totovercast)*math.log2(overyes/totovercast))-((overno/totovercast)*math.log2(overno/totovercast))\n",
    "print(\"\\nOvercast Entropy:\\n\",overcastentropy)\n"
   ]
  },
  {
   "cell_type": "code",
   "execution_count": 15,
   "metadata": {},
   "outputs": [
    {
     "name": "stdout",
     "output_type": "stream",
     "text": [
      "\n",
      "Rain Entropy:\n",
      " 0.9709505944546686\n"
     ]
    }
   ],
   "source": [
    "if totrain == rainyes or totrain == rainno:\n",
    "    rainentropy = 0\n",
    "else:\n",
    "    rainentropy = -((rainyes/totrain)*math.log2(rainyes/totrain))-((rainno/totrain)*math.log2(rainno/totrain))\n",
    "print(\"\\nRain Entropy:\\n\",rainentropy)"
   ]
  },
  {
   "cell_type": "code",
   "execution_count": 16,
   "metadata": {},
   "outputs": [
    {
     "name": "stdout",
     "output_type": "stream",
     "text": [
      "\n",
      "Outlook Gain is:\t 0.24674981977443933\n",
      "\n",
      "---------------------Temperature-----------------------\n",
      "\n"
     ]
    }
   ],
   "source": [
    "gainoutlook=entropy-(totsunny/totyesno)*sunnyentropy-(totovercast/totyesno)*overcastentropy-(totrain/totyesno)*rainentropy\n",
    "print(\"\\nOutlook Gain is:\\t\",gainoutlook)\n",
    "\n",
    "print(\"\\n---------------------Temperature-----------------------\\n\")\n",
    "#temperature\n",
    "tottemprows=len(temp)"
   ]
  },
  {
   "cell_type": "code",
   "execution_count": 17,
   "metadata": {},
   "outputs": [
    {
     "name": "stdout",
     "output_type": "stream",
     "text": [
      "\n",
      "Hot yes:\t 2 \n",
      "Hot no:\t 2 \n",
      "Mild yes:\t 4 \n",
      "Mild no:\t 2 \n",
      "Cool yes:\t 3 \n",
      "Cool no:\t 1\n"
     ]
    }
   ],
   "source": [
    "hotyes = hotno = mildyes = mildno = coolyes = coolno = 0\n",
    "\n",
    "for i,j in zip(temp,play):\n",
    "     if i==\"Hot\" and j==\"Yes\":\n",
    "         hotyes += 1\n",
    "     elif i==\"Hot\" and j==\"No\":\n",
    "         hotno += 1\n",
    "     elif i==\"Mild\" and j==\"Yes\":\n",
    "         mildyes += 1\n",
    "     elif i==\"Mild\" and j==\"No\":\n",
    "         mildno += 1\n",
    "     elif i==\"Cool\" and j==\"Yes\":\n",
    "         coolyes += 1\n",
    "     elif i==\"Cool\" and j==\"No\":\n",
    "         coolno += 1\n",
    "print(\"\\nHot yes:\\t\",hotyes,\"\\nHot no:\\t\",hotno,\"\\nMild yes:\\t\",mildyes,\"\\nMild no:\\t\",mildno,\"\\nCool yes:\\t\",coolyes,\"\\nCool no:\\t\",coolno)\n"
   ]
  },
  {
   "cell_type": "code",
   "execution_count": 18,
   "metadata": {},
   "outputs": [
    {
     "name": "stdout",
     "output_type": "stream",
     "text": [
      "\n",
      "Total hot:\t 4 \n",
      "Total cool:\t 4 \n",
      "Total mild:\t 6\n"
     ]
    }
   ],
   "source": [
    "tothot = hotyes + hotno\n",
    "totcool = coolyes + coolno\n",
    "totmild = mildyes + mildno \n",
    "print(\"\\nTotal hot:\\t\",tothot,\"\\nTotal cool:\\t\",totcool,\"\\nTotal mild:\\t\",totmild)"
   ]
  },
  {
   "cell_type": "code",
   "execution_count": 19,
   "metadata": {},
   "outputs": [],
   "source": [
    "if tothot == hotyes or tothot == hotno:\n",
    "    hotentropy = 0\n",
    "else:\n",
    "    hotentropy = -((hotyes/tothot)*math.log2(hotyes/tothot))-((hotno/tothot)*math.log2(hotno/tothot))\n"
   ]
  },
  {
   "cell_type": "code",
   "execution_count": 20,
   "metadata": {},
   "outputs": [
    {
     "name": "stdout",
     "output_type": "stream",
     "text": [
      "\n",
      "Hot Entropy:\n",
      " 1.0\n"
     ]
    }
   ],
   "source": [
    "print(\"\\nHot Entropy:\\n\",hotentropy)"
   ]
  },
  {
   "cell_type": "code",
   "execution_count": 21,
   "metadata": {},
   "outputs": [
    {
     "name": "stdout",
     "output_type": "stream",
     "text": [
      "\n",
      "Cool Entropy:\n",
      " 0.8112781244591328\n"
     ]
    }
   ],
   "source": [
    "if totcool == coolyes or totcool == coolno:\n",
    "    coolentropy = 0\n",
    "else:\n",
    "    coolentropy = -((coolyes/totcool)*math.log2(coolyes/totcool))-((coolno/totcool)*math.log2(coolno/totcool))\n",
    "print(\"\\nCool Entropy:\\n\",coolentropy)"
   ]
  },
  {
   "cell_type": "code",
   "execution_count": 22,
   "metadata": {},
   "outputs": [
    {
     "name": "stdout",
     "output_type": "stream",
     "text": [
      "\n",
      "Mild Entropy:\n",
      " 0.9182958340544896\n"
     ]
    }
   ],
   "source": [
    "\n",
    "if totmild == mildyes or totmild == mildno:\n",
    "    mildentropy = 0\n",
    "else:\n",
    "    mildentropy = -((mildyes/totmild)*math.log2(mildyes/totmild))-((mildno/totmild)*math.log2(mildno/totmild))\n",
    "print(\"\\nMild Entropy:\\n\",mildentropy)"
   ]
  },
  {
   "cell_type": "code",
   "execution_count": 23,
   "metadata": {},
   "outputs": [
    {
     "name": "stdout",
     "output_type": "stream",
     "text": [
      "\n",
      "Temperature Gain is:\t 0.02922256565895487\n",
      "\n",
      "---------------------Humidity-----------------------\n",
      "\n"
     ]
    }
   ],
   "source": [
    "gaintemp=entropy-(tothot/totyesno)*hotentropy-(totcool/totyesno)*coolentropy-(totmild/totyesno)*mildentropy\n",
    "print(\"\\nTemperature Gain is:\\t\",gaintemp)\n",
    "\n",
    "print(\"\\n---------------------Humidity-----------------------\\n\")\n",
    "#humidity\n",
    "highyes = highno = normalyes = normalno = 0"
   ]
  },
  {
   "cell_type": "code",
   "execution_count": 24,
   "metadata": {},
   "outputs": [
    {
     "name": "stdout",
     "output_type": "stream",
     "text": [
      "\n",
      "High yes:\t 3 \n",
      "High no:\t 4 \n",
      "Normal yes:\t 6 \n",
      "Normal no:\t 1\n"
     ]
    }
   ],
   "source": [
    "for i,j in zip(humidity,play):\n",
    "     if i==\"High\" and j==\"Yes\":\n",
    "         highyes += 1\n",
    "     elif i==\"High\" and j==\"No\":\n",
    "         highno += 1\n",
    "     elif i==\"Normal\" and j==\"Yes\":\n",
    "         normalyes += 1\n",
    "     elif i==\"Normal\" and j==\"No\":\n",
    "         normalno += 1\n",
    "print(\"\\nHigh yes:\\t\",highyes,\"\\nHigh no:\\t\",highno,\"\\nNormal yes:\\t\",normalyes,\"\\nNormal no:\\t\",normalno)\n"
   ]
  },
  {
   "cell_type": "code",
   "execution_count": 25,
   "metadata": {},
   "outputs": [
    {
     "name": "stdout",
     "output_type": "stream",
     "text": [
      "\n",
      "Total high:\t 7 \n",
      "Total normal:\t 7\n"
     ]
    }
   ],
   "source": [
    "\n",
    "tothigh = highyes + highno\n",
    "totnormal = normalyes + normalno\n",
    "print(\"\\nTotal high:\\t\",tothigh,\"\\nTotal normal:\\t\",totnormal)"
   ]
  },
  {
   "cell_type": "code",
   "execution_count": 26,
   "metadata": {},
   "outputs": [
    {
     "name": "stdout",
     "output_type": "stream",
     "text": [
      "\n",
      "Hot Entropy:\n",
      " 0.9852281360342516\n"
     ]
    }
   ],
   "source": [
    "if tothigh == highyes or tothigh == highno:\n",
    "    highentropy = 0\n",
    "else:\n",
    "    highentropy = -((highyes/tothigh)*math.log2(highyes/tothigh))-((highno/tothigh)*math.log2(highno/tothigh))\n",
    "\n",
    "print(\"\\nHot Entropy:\\n\",highentropy)\n"
   ]
  },
  {
   "cell_type": "code",
   "execution_count": 27,
   "metadata": {},
   "outputs": [
    {
     "name": "stdout",
     "output_type": "stream",
     "text": [
      "\n",
      "Cool Entropy:\n",
      " 0.5916727785823275\n"
     ]
    }
   ],
   "source": [
    "if totnormal == normalyes or totnormal == normalno:\n",
    "    normalentropy = 0\n",
    "else:\n",
    "    normalentropy = -((normalyes/totnormal)*math.log2(normalyes/totnormal))-((normalno/totnormal)*math.log2(normalno/totnormal))\n",
    "print(\"\\nCool Entropy:\\n\",normalentropy)"
   ]
  },
  {
   "cell_type": "code",
   "execution_count": 28,
   "metadata": {},
   "outputs": [
    {
     "name": "stdout",
     "output_type": "stream",
     "text": [
      "\n",
      "Humidity Gain is:\t 0.15183550136234159\n",
      "\n",
      "---------------------Wind-----------------------\n",
      "\n"
     ]
    }
   ],
   "source": [
    "gainhumid=entropy-(tothigh/totyesno)*highentropy-(totnormal/totyesno)*normalentropy\n",
    "print(\"\\nHumidity Gain is:\\t\",gainhumid)\n",
    "\n",
    "print(\"\\n---------------------Wind-----------------------\\n\")\n",
    "#humidity\n",
    "weakyes = weakno = strongyes = strongno = 0"
   ]
  },
  {
   "cell_type": "code",
   "execution_count": 29,
   "metadata": {},
   "outputs": [
    {
     "name": "stdout",
     "output_type": "stream",
     "text": [
      "\n",
      "Strong yes:\t 3 \n",
      "Strong no:\t 3 \n",
      "Weak yes:\t 6 \n",
      "Weak no:\t 2\n"
     ]
    }
   ],
   "source": [
    "for i,j in zip(wind,play):\n",
    "     if i==\"Weak\" and j==\"Yes\":\n",
    "         weakyes += 1\n",
    "     elif i==\"Weak\" and j==\"No\":\n",
    "         weakno += 1\n",
    "     elif i==\"Strong\" and j==\"Yes\":\n",
    "         strongyes += 1\n",
    "     elif i==\"Strong\" and j==\"No\":\n",
    "         strongno += 1\n",
    "print(\"\\nStrong yes:\\t\",strongyes,\"\\nStrong no:\\t\",strongno,\"\\nWeak yes:\\t\",weakyes,\"\\nWeak no:\\t\",weakno)"
   ]
  },
  {
   "cell_type": "code",
   "execution_count": 30,
   "metadata": {},
   "outputs": [
    {
     "name": "stdout",
     "output_type": "stream",
     "text": [
      "\n",
      "Total high:\t 7 \n",
      "Total normal:\t 7\n"
     ]
    }
   ],
   "source": [
    "tothigh = highyes + highno\n",
    "totnormal = normalyes + normalno\n",
    "print(\"\\nTotal high:\\t\",tothigh,\"\\nTotal normal:\\t\",totnormal)\n"
   ]
  },
  {
   "cell_type": "code",
   "execution_count": 31,
   "metadata": {},
   "outputs": [
    {
     "name": "stdout",
     "output_type": "stream",
     "text": [
      "\n",
      "High Entropy:\n",
      " 0.9852281360342516\n"
     ]
    }
   ],
   "source": [
    "if tothigh == highyes or tothigh == highno:\n",
    "    highentropy = 0\n",
    "else:\n",
    "    highentropy = -((highyes/tothigh)*math.log2(highyes/tothigh))-((highno/tothigh)*math.log2(highno/tothigh))\n",
    "\n",
    "print(\"\\nHigh Entropy:\\n\",highentropy)\n"
   ]
  },
  {
   "cell_type": "code",
   "execution_count": 32,
   "metadata": {},
   "outputs": [
    {
     "name": "stdout",
     "output_type": "stream",
     "text": [
      "\n",
      "Normal Entropy:\n",
      " 0.5916727785823275\n"
     ]
    }
   ],
   "source": [
    "if totnormal == normalyes or totnormal == normalno:\n",
    "    normalentropy = 0\n",
    "else:\n",
    "    normalentropy = -((normalyes/totnormal)*math.log2(normalyes/totnormal))-((normalno/totnormal)*math.log2(normalno/totnormal))\n",
    "print(\"\\nNormal Entropy:\\n\",normalentropy)"
   ]
  },
  {
   "cell_type": "code",
   "execution_count": 33,
   "metadata": {
    "scrolled": true
   },
   "outputs": [
    {
     "name": "stdout",
     "output_type": "stream",
     "text": [
      "\n",
      "Humidity Gain is:\t 0.15183550136234159\n"
     ]
    }
   ],
   "source": [
    "gainwind=entropy-(tothigh/totyesno)*highentropy-(totnormal/totyesno)*normalentropy\n",
    "print(\"\\nHumidity Gain is:\\t\",gainhumid)"
   ]
  },
  {
   "cell_type": "code",
   "execution_count": 43,
   "metadata": {},
   "outputs": [
    {
     "name": "stdout",
     "output_type": "stream",
     "text": [
      "root node Outlook\n"
     ]
    }
   ],
   "source": [
    "if gainoutlook>gaintemp and gainoutlook>gainhumid and gainoutlook>gainwind:\n",
    "    print(\"root node Outlook\")\n",
    "elif gaintemp>gainhumid and gaintemp>gainwind:\n",
    "    print(\"root node Temperature\")\n",
    "elif gainwind>gainhumid:\n",
    "    print(\"root node Wind\")\n",
    "else:\n",
    "    print(\"root node Humidity\")"
   ]
  },
  {
   "cell_type": "code",
   "execution_count": 37,
   "metadata": {},
   "outputs": [
    {
     "name": "stdout",
     "output_type": "stream",
     "text": [
      "0.24674981977443933\n"
     ]
    }
   ],
   "source": []
  },
  {
   "cell_type": "code",
   "execution_count": null,
   "metadata": {},
   "outputs": [],
   "source": []
  }
 ],
 "metadata": {
  "kernelspec": {
   "display_name": "Python 3",
   "language": "python",
   "name": "python3"
  },
  "language_info": {
   "codemirror_mode": {
    "name": "ipython",
    "version": 3
   },
   "file_extension": ".py",
   "mimetype": "text/x-python",
   "name": "python",
   "nbconvert_exporter": "python",
   "pygments_lexer": "ipython3",
   "version": "3.7.6"
  }
 },
 "nbformat": 4,
 "nbformat_minor": 5
}
